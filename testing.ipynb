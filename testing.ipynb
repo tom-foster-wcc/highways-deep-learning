{
 "cells": [
  {
   "cell_type": "code",
   "execution_count": 2,
   "metadata": {},
   "outputs": [
    {
     "name": "stdout",
     "output_type": "stream",
     "text": [
      "['.DS_Store']\n",
      "[]\n",
      "0\n",
      "/Users/datascience4/Desktop/test/0\n"
     ]
    }
   ],
   "source": [
    "import os\n",
    "\n",
    "def create_logs_dir(logs_dir):\n",
    "    contents_list = os.listdir(logs_dir)\n",
    "    print(contents_list)\n",
    "    contents_list.remove('.DS_Store')\n",
    "    print(contents_list)\n",
    "    contents_list = len(contents_list)\n",
    "    print(contents_list)\n",
    "    if contents_list == 0:\n",
    "        new_folder = os.mkdir(logs_dir + '1')\n",
    "    else:\n",
    "        new_folder = os.mkdir(logs_dir + str(contents_list + 1))\n",
    "    return logs_dir + str(contents_list)\n",
    "        \n",
    "    \n",
    "\n",
    "log_dir = '/Users/datascience4/Desktop/test/'\n",
    "\n",
    "\n",
    "x = create_logs_dir(log_dir)\n",
    "\n",
    "print(x)"
   ]
  },
  {
   "cell_type": "code",
   "execution_count": null,
   "metadata": {},
   "outputs": [],
   "source": []
  },
  {
   "cell_type": "code",
   "execution_count": null,
   "metadata": {},
   "outputs": [],
   "source": []
  }
 ],
 "metadata": {
  "kernelspec": {
   "display_name": "Python 3",
   "language": "python",
   "name": "python3"
  },
  "language_info": {
   "codemirror_mode": {
    "name": "ipython",
    "version": 3
   },
   "file_extension": ".py",
   "mimetype": "text/x-python",
   "name": "python",
   "nbconvert_exporter": "python",
   "pygments_lexer": "ipython3",
   "version": "3.6.6"
  }
 },
 "nbformat": 4,
 "nbformat_minor": 2
}
